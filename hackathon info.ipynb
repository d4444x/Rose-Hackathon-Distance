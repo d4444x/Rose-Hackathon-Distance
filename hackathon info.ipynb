{
 "metadata": {
  "name": "",
  "signature": "sha256:76a2f9f7bf1c0afcf98068cce73a414df0574e0f274d5f70ced765b895dfa892"
 },
 "nbformat": 3,
 "nbformat_minor": 0,
 "worksheets": [
  {
   "cells": [
    {
     "cell_type": "code",
     "collapsed": false,
     "input": [
      "from bs4 import BeautifulSoup\n",
      "import requests\n",
      "import json\n",
      "import time"
     ],
     "language": "python",
     "metadata": {},
     "outputs": [],
     "prompt_number": 52
    },
    {
     "cell_type": "code",
     "collapsed": false,
     "input": [
      "r = requests.get(\"https://mlh.io/seasons/s2015/events\")"
     ],
     "language": "python",
     "metadata": {},
     "outputs": [],
     "prompt_number": 17
    },
    {
     "cell_type": "code",
     "collapsed": false,
     "input": [
      "soup = BeautifulSoup(r.text)"
     ],
     "language": "python",
     "metadata": {},
     "outputs": [],
     "prompt_number": 18
    },
    {
     "cell_type": "code",
     "collapsed": false,
     "input": [
      "hackathons = soup.findAll(\"div\",{\"class\":\"event-wrapper\"})"
     ],
     "language": "python",
     "metadata": {},
     "outputs": [],
     "prompt_number": 21
    },
    {
     "cell_type": "code",
     "collapsed": false,
     "input": [
      "f = open(\"C:\\\\Users\\\\daxx\\\\Documents\\\\hackathons.txt\",\"w\")\n",
      "f.write(\"Name\\tDate\\tDistance\\tTrip Length\\tTrip Length Seconds\\tLocation\\tUrl\\n\")\n",
      "for hackathon in hackathons[:]:\n",
      "    name = hackathon.find('h3').text\n",
      "    url = hackathon.findAll('a')[0].attrs[\"href\"]\n",
      "    t = hackathon.findAll('p')\n",
      "    date = t[0].text\n",
      "    location = t[1].text\n",
      "    d = get_distance(\"Rose-hulman\", location)\n",
      "    distance = d[\"rows\"][0][\"elements\"][0][\"distance\"][\"value\"]*0.000621371\n",
      "    trip_length = d[\"rows\"][0][\"elements\"][0][\"duration\"][\"text\"] \n",
      "    seconds = d[\"rows\"][0][\"elements\"][0][\"duration\"][\"value\"] \n",
      "    f.write(name+\"\\t\"+date+\"\\t\"+str(round(distance))+\"\\t\"+trip_length+\"\\t\"+str(seconds)+\"\\t\"+location+\"\\t\"+url+\"\\n\")\n",
      "f.close()"
     ],
     "language": "python",
     "metadata": {},
     "outputs": [],
     "prompt_number": 144
    },
    {
     "cell_type": "code",
     "collapsed": false,
     "input": [
      "cache = {}\n",
      "def get_distance(origin, destination, key= \"key\"): ## get your api key from https://console.developers.google.com\n",
      "    string = \"https://maps.googleapis.com/maps/api/distancematrix/json?units=imperial&origins={2}&destinations={1}&key={0}\"\n",
      "    string = string.format(key, destination, origin)\n",
      "    if string not in cache:\n",
      "        r = requests.get(string)\n",
      "        cache[string] = r.text\n",
      "    else:\n",
      "        return json.loads(cache[string])\n",
      "    return json.loads(r.text)"
     ],
     "language": "python",
     "metadata": {},
     "outputs": [],
     "prompt_number": 119
    }
   ],
   "metadata": {}
  }
 ]
}